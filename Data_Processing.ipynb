{
 "cells": [
  {
   "cell_type": "markdown",
   "metadata": {},
   "source": [
    "# Create powerful data insights and visualization :  \n",
    "# Paris public renting bikes data "
   ]
  },
  {
   "cell_type": "code",
   "execution_count": 1,
   "metadata": {},
   "outputs": [],
   "source": [
    "import pandas as pd\n",
    "import numpy as np\n",
    "\n",
    "from datetime import datetime\n",
    "import cleaning_data"
   ]
  },
  {
   "cell_type": "code",
   "execution_count": 2,
   "metadata": {},
   "outputs": [],
   "source": [
    "#df = cleaning_data.cleaning( 'allData.csv') \n",
    "df = pd.read_csv( 'cleanedData.csv')"
   ]
  },
  {
   "cell_type": "code",
   "execution_count": 3,
   "metadata": {},
   "outputs": [
    {
     "data": {
      "text/html": [
       "<div>\n",
       "<style scoped>\n",
       "    .dataframe tbody tr th:only-of-type {\n",
       "        vertical-align: middle;\n",
       "    }\n",
       "\n",
       "    .dataframe tbody tr th {\n",
       "        vertical-align: top;\n",
       "    }\n",
       "\n",
       "    .dataframe thead th {\n",
       "        text-align: right;\n",
       "    }\n",
       "</style>\n",
       "<table border=\"1\" class=\"dataframe\">\n",
       "  <thead>\n",
       "    <tr style=\"text-align: right;\">\n",
       "      <th></th>\n",
       "      <th>Unnamed: 0</th>\n",
       "      <th>station_id</th>\n",
       "      <th>name</th>\n",
       "      <th>lat</th>\n",
       "      <th>lon</th>\n",
       "      <th>capacity</th>\n",
       "      <th>stationCode_x</th>\n",
       "      <th>rental_methods</th>\n",
       "      <th>timestamp</th>\n",
       "      <th>datetime</th>\n",
       "      <th>num_bikes_available</th>\n",
       "      <th>num_docks_available</th>\n",
       "      <th>is_installed</th>\n",
       "      <th>is_returning</th>\n",
       "      <th>is_renting</th>\n",
       "      <th>last_reported</th>\n",
       "      <th>mechanical_available</th>\n",
       "      <th>ebike_available</th>\n",
       "    </tr>\n",
       "  </thead>\n",
       "  <tbody>\n",
       "    <tr>\n",
       "      <th>0</th>\n",
       "      <td>0</td>\n",
       "      <td>213688169</td>\n",
       "      <td>Benjamin Godard - Victor Hugo</td>\n",
       "      <td>48.865983</td>\n",
       "      <td>2.275725</td>\n",
       "      <td>35</td>\n",
       "      <td>16107</td>\n",
       "      <td>NaN</td>\n",
       "      <td>1.586873e+09</td>\n",
       "      <td>2020-04-14 15:59:32</td>\n",
       "      <td>11</td>\n",
       "      <td>24</td>\n",
       "      <td>1</td>\n",
       "      <td>1</td>\n",
       "      <td>1</td>\n",
       "      <td>1586870837</td>\n",
       "      <td>3</td>\n",
       "      <td>8</td>\n",
       "    </tr>\n",
       "    <tr>\n",
       "      <th>1</th>\n",
       "      <td>1</td>\n",
       "      <td>99950133</td>\n",
       "      <td>André Mazet - Saint-André des Arts</td>\n",
       "      <td>48.853756</td>\n",
       "      <td>2.339096</td>\n",
       "      <td>55</td>\n",
       "      <td>6015</td>\n",
       "      <td>['CREDITCARD']</td>\n",
       "      <td>1.586873e+09</td>\n",
       "      <td>2020-04-14 15:59:32</td>\n",
       "      <td>26</td>\n",
       "      <td>27</td>\n",
       "      <td>1</td>\n",
       "      <td>1</td>\n",
       "      <td>1</td>\n",
       "      <td>1586870920</td>\n",
       "      <td>25</td>\n",
       "      <td>1</td>\n",
       "    </tr>\n",
       "    <tr>\n",
       "      <th>2</th>\n",
       "      <td>2</td>\n",
       "      <td>516709288</td>\n",
       "      <td>Charonne - Robert et Sonia Delauney</td>\n",
       "      <td>48.855908</td>\n",
       "      <td>2.392571</td>\n",
       "      <td>20</td>\n",
       "      <td>11104</td>\n",
       "      <td>NaN</td>\n",
       "      <td>1.586873e+09</td>\n",
       "      <td>2020-04-14 15:59:32</td>\n",
       "      <td>8</td>\n",
       "      <td>12</td>\n",
       "      <td>1</td>\n",
       "      <td>1</td>\n",
       "      <td>1</td>\n",
       "      <td>1586871146</td>\n",
       "      <td>5</td>\n",
       "      <td>3</td>\n",
       "    </tr>\n",
       "    <tr>\n",
       "      <th>3</th>\n",
       "      <td>3</td>\n",
       "      <td>36255</td>\n",
       "      <td>Toudouze - Clauzel</td>\n",
       "      <td>48.879296</td>\n",
       "      <td>2.337360</td>\n",
       "      <td>21</td>\n",
       "      <td>9020</td>\n",
       "      <td>['CREDITCARD']</td>\n",
       "      <td>1.586873e+09</td>\n",
       "      <td>2020-04-14 15:59:32</td>\n",
       "      <td>12</td>\n",
       "      <td>9</td>\n",
       "      <td>1</td>\n",
       "      <td>1</td>\n",
       "      <td>1</td>\n",
       "      <td>1586871022</td>\n",
       "      <td>7</td>\n",
       "      <td>5</td>\n",
       "    </tr>\n",
       "    <tr>\n",
       "      <th>4</th>\n",
       "      <td>4</td>\n",
       "      <td>37815204</td>\n",
       "      <td>Mairie du 12ème</td>\n",
       "      <td>48.840855</td>\n",
       "      <td>2.387555</td>\n",
       "      <td>30</td>\n",
       "      <td>12109</td>\n",
       "      <td>NaN</td>\n",
       "      <td>1.586873e+09</td>\n",
       "      <td>2020-04-14 15:59:32</td>\n",
       "      <td>10</td>\n",
       "      <td>20</td>\n",
       "      <td>1</td>\n",
       "      <td>1</td>\n",
       "      <td>1</td>\n",
       "      <td>1586870873</td>\n",
       "      <td>7</td>\n",
       "      <td>3</td>\n",
       "    </tr>\n",
       "    <tr>\n",
       "      <th>...</th>\n",
       "      <td>...</td>\n",
       "      <td>...</td>\n",
       "      <td>...</td>\n",
       "      <td>...</td>\n",
       "      <td>...</td>\n",
       "      <td>...</td>\n",
       "      <td>...</td>\n",
       "      <td>...</td>\n",
       "      <td>...</td>\n",
       "      <td>...</td>\n",
       "      <td>...</td>\n",
       "      <td>...</td>\n",
       "      <td>...</td>\n",
       "      <td>...</td>\n",
       "      <td>...</td>\n",
       "      <td>...</td>\n",
       "      <td>...</td>\n",
       "      <td>...</td>\n",
       "    </tr>\n",
       "    <tr>\n",
       "      <th>426604</th>\n",
       "      <td>528816</td>\n",
       "      <td>27415004</td>\n",
       "      <td>Général Michel Bizot - Claude Decaen</td>\n",
       "      <td>48.834813</td>\n",
       "      <td>2.400928</td>\n",
       "      <td>38</td>\n",
       "      <td>12039</td>\n",
       "      <td>['CREDITCARD']</td>\n",
       "      <td>1.587982e+09</td>\n",
       "      <td>2020-04-27 12:11:27</td>\n",
       "      <td>29</td>\n",
       "      <td>9</td>\n",
       "      <td>1</td>\n",
       "      <td>1</td>\n",
       "      <td>1</td>\n",
       "      <td>1587982237</td>\n",
       "      <td>26</td>\n",
       "      <td>3</td>\n",
       "    </tr>\n",
       "    <tr>\n",
       "      <th>426605</th>\n",
       "      <td>528817</td>\n",
       "      <td>27415128</td>\n",
       "      <td>Ivry - Baudricourt</td>\n",
       "      <td>48.824696</td>\n",
       "      <td>2.363106</td>\n",
       "      <td>20</td>\n",
       "      <td>13037</td>\n",
       "      <td>NaN</td>\n",
       "      <td>1.587982e+09</td>\n",
       "      <td>2020-04-27 12:11:27</td>\n",
       "      <td>5</td>\n",
       "      <td>15</td>\n",
       "      <td>1</td>\n",
       "      <td>1</td>\n",
       "      <td>1</td>\n",
       "      <td>1587981719</td>\n",
       "      <td>3</td>\n",
       "      <td>2</td>\n",
       "    </tr>\n",
       "    <tr>\n",
       "      <th>426606</th>\n",
       "      <td>528818</td>\n",
       "      <td>27414937</td>\n",
       "      <td>Saint-Mandé - Docteur Arnold Netter</td>\n",
       "      <td>48.844626</td>\n",
       "      <td>2.404946</td>\n",
       "      <td>39</td>\n",
       "      <td>12017</td>\n",
       "      <td>['CREDITCARD']</td>\n",
       "      <td>1.587982e+09</td>\n",
       "      <td>2020-04-27 12:11:27</td>\n",
       "      <td>34</td>\n",
       "      <td>5</td>\n",
       "      <td>1</td>\n",
       "      <td>1</td>\n",
       "      <td>1</td>\n",
       "      <td>1587982212</td>\n",
       "      <td>22</td>\n",
       "      <td>12</td>\n",
       "    </tr>\n",
       "    <tr>\n",
       "      <th>426607</th>\n",
       "      <td>528819</td>\n",
       "      <td>66507230</td>\n",
       "      <td>Saint-Marcel - Hôpital</td>\n",
       "      <td>48.839504</td>\n",
       "      <td>2.360989</td>\n",
       "      <td>21</td>\n",
       "      <td>13013</td>\n",
       "      <td>['CREDITCARD']</td>\n",
       "      <td>1.587982e+09</td>\n",
       "      <td>2020-04-27 12:11:27</td>\n",
       "      <td>15</td>\n",
       "      <td>6</td>\n",
       "      <td>1</td>\n",
       "      <td>1</td>\n",
       "      <td>1</td>\n",
       "      <td>1587982228</td>\n",
       "      <td>14</td>\n",
       "      <td>1</td>\n",
       "    </tr>\n",
       "    <tr>\n",
       "      <th>426608</th>\n",
       "      <td>528820</td>\n",
       "      <td>100227241</td>\n",
       "      <td>Guynemer - Jardin du Luxembourg</td>\n",
       "      <td>48.846613</td>\n",
       "      <td>2.332548</td>\n",
       "      <td>36</td>\n",
       "      <td>6009</td>\n",
       "      <td>['CREDITCARD']</td>\n",
       "      <td>1.587982e+09</td>\n",
       "      <td>2020-04-27 12:11:27</td>\n",
       "      <td>9</td>\n",
       "      <td>27</td>\n",
       "      <td>1</td>\n",
       "      <td>1</td>\n",
       "      <td>1</td>\n",
       "      <td>1587982257</td>\n",
       "      <td>2</td>\n",
       "      <td>7</td>\n",
       "    </tr>\n",
       "  </tbody>\n",
       "</table>\n",
       "<p>426609 rows × 18 columns</p>\n",
       "</div>"
      ],
      "text/plain": [
       "        Unnamed: 0  station_id                                  name  \\\n",
       "0                0   213688169         Benjamin Godard - Victor Hugo   \n",
       "1                1    99950133    André Mazet - Saint-André des Arts   \n",
       "2                2   516709288   Charonne - Robert et Sonia Delauney   \n",
       "3                3       36255                    Toudouze - Clauzel   \n",
       "4                4    37815204                       Mairie du 12ème   \n",
       "...            ...         ...                                   ...   \n",
       "426604      528816    27415004  Général Michel Bizot - Claude Decaen   \n",
       "426605      528817    27415128                    Ivry - Baudricourt   \n",
       "426606      528818    27414937   Saint-Mandé - Docteur Arnold Netter   \n",
       "426607      528819    66507230                Saint-Marcel - Hôpital   \n",
       "426608      528820   100227241       Guynemer - Jardin du Luxembourg   \n",
       "\n",
       "              lat       lon  capacity  stationCode_x  rental_methods  \\\n",
       "0       48.865983  2.275725        35          16107             NaN   \n",
       "1       48.853756  2.339096        55           6015  ['CREDITCARD']   \n",
       "2       48.855908  2.392571        20          11104             NaN   \n",
       "3       48.879296  2.337360        21           9020  ['CREDITCARD']   \n",
       "4       48.840855  2.387555        30          12109             NaN   \n",
       "...           ...       ...       ...            ...             ...   \n",
       "426604  48.834813  2.400928        38          12039  ['CREDITCARD']   \n",
       "426605  48.824696  2.363106        20          13037             NaN   \n",
       "426606  48.844626  2.404946        39          12017  ['CREDITCARD']   \n",
       "426607  48.839504  2.360989        21          13013  ['CREDITCARD']   \n",
       "426608  48.846613  2.332548        36           6009  ['CREDITCARD']   \n",
       "\n",
       "           timestamp             datetime  num_bikes_available  \\\n",
       "0       1.586873e+09  2020-04-14 15:59:32                   11   \n",
       "1       1.586873e+09  2020-04-14 15:59:32                   26   \n",
       "2       1.586873e+09  2020-04-14 15:59:32                    8   \n",
       "3       1.586873e+09  2020-04-14 15:59:32                   12   \n",
       "4       1.586873e+09  2020-04-14 15:59:32                   10   \n",
       "...              ...                  ...                  ...   \n",
       "426604  1.587982e+09  2020-04-27 12:11:27                   29   \n",
       "426605  1.587982e+09  2020-04-27 12:11:27                    5   \n",
       "426606  1.587982e+09  2020-04-27 12:11:27                   34   \n",
       "426607  1.587982e+09  2020-04-27 12:11:27                   15   \n",
       "426608  1.587982e+09  2020-04-27 12:11:27                    9   \n",
       "\n",
       "        num_docks_available  is_installed  is_returning  is_renting  \\\n",
       "0                        24             1             1           1   \n",
       "1                        27             1             1           1   \n",
       "2                        12             1             1           1   \n",
       "3                         9             1             1           1   \n",
       "4                        20             1             1           1   \n",
       "...                     ...           ...           ...         ...   \n",
       "426604                    9             1             1           1   \n",
       "426605                   15             1             1           1   \n",
       "426606                    5             1             1           1   \n",
       "426607                    6             1             1           1   \n",
       "426608                   27             1             1           1   \n",
       "\n",
       "        last_reported  mechanical_available  ebike_available  \n",
       "0          1586870837                     3                8  \n",
       "1          1586870920                    25                1  \n",
       "2          1586871146                     5                3  \n",
       "3          1586871022                     7                5  \n",
       "4          1586870873                     7                3  \n",
       "...               ...                   ...              ...  \n",
       "426604     1587982237                    26                3  \n",
       "426605     1587981719                     3                2  \n",
       "426606     1587982212                    22               12  \n",
       "426607     1587982228                    14                1  \n",
       "426608     1587982257                     2                7  \n",
       "\n",
       "[426609 rows x 18 columns]"
      ]
     },
     "execution_count": 3,
     "metadata": {},
     "output_type": "execute_result"
    }
   ],
   "source": [
    "df"
   ]
  },
  {
   "cell_type": "markdown",
   "metadata": {},
   "source": [
    "## Adding new meaningfull data\n",
    "### datetime"
   ]
  },
  {
   "cell_type": "code",
   "execution_count": null,
   "metadata": {},
   "outputs": [],
   "source": [
    "#Convert the datetime column in datetime.datetime class\n",
    "df['datetime'] = df['datetime'].apply( lambda x : datetime.strptime( x, '%Y-%m-%d %H:%M:%S'))"
   ]
  },
  {
   "cell_type": "code",
   "execution_count": 55,
   "metadata": {},
   "outputs": [],
   "source": [
    "# Extract the day \n",
    "df['day'] = df[ 'datetime'].apply( lambda x : x.day ) "
   ]
  },
  {
   "cell_type": "code",
   "execution_count": 82,
   "metadata": {},
   "outputs": [],
   "source": [
    "# Convert into weekdays\n",
    "df['weekday'] = df[ 'datetime'].apply( lambda x : x.weekday() )\n",
    "df['weekday'] = df['weekday'].map( \n",
    "    { 0:'Mon', 1:'Tue', 2:'Wed', 3:'Thu', 4:'Fri', 5:'Sat', 6:'Sun'}\n",
    "    )"
   ]
  },
  {
   "cell_type": "markdown",
   "metadata": {},
   "source": [
    "It has to be noticed that the stations' data are __updated once an hour__ by the data source.\n",
    "It means that even if the extract program is run several times in an hour, the data gathered are the same\n",
    "\n",
    "\n",
    "In order to simplify the further analysis, it is more convinient to __round the hours__ of the day "
   ]
  },
  {
   "cell_type": "code",
   "execution_count": 67,
   "metadata": {},
   "outputs": [],
   "source": [
    "# New column with rounded hours \n",
    "df['hour_r'] = df[\"datetime\"].dt.round(\"H\").dt.hour"
   ]
  },
  {
   "cell_type": "code",
   "execution_count": 84,
   "metadata": {
    "scrolled": true
   },
   "outputs": [
    {
     "data": {
      "text/html": [
       "<div>\n",
       "<style scoped>\n",
       "    .dataframe tbody tr th:only-of-type {\n",
       "        vertical-align: middle;\n",
       "    }\n",
       "\n",
       "    .dataframe tbody tr th {\n",
       "        vertical-align: top;\n",
       "    }\n",
       "\n",
       "    .dataframe thead th {\n",
       "        text-align: right;\n",
       "    }\n",
       "</style>\n",
       "<table border=\"1\" class=\"dataframe\">\n",
       "  <thead>\n",
       "    <tr style=\"text-align: right;\">\n",
       "      <th></th>\n",
       "      <th>station_id</th>\n",
       "      <th>name</th>\n",
       "      <th>lat</th>\n",
       "      <th>lon</th>\n",
       "      <th>capacity</th>\n",
       "      <th>stationCode_x</th>\n",
       "      <th>rental_methods</th>\n",
       "      <th>timestamp</th>\n",
       "      <th>datetime</th>\n",
       "      <th>num_bikes_available</th>\n",
       "      <th>num_docks_available</th>\n",
       "      <th>is_installed</th>\n",
       "      <th>is_returning</th>\n",
       "      <th>is_renting</th>\n",
       "      <th>last_reported</th>\n",
       "      <th>mechanical_available</th>\n",
       "      <th>ebike_available</th>\n",
       "      <th>day</th>\n",
       "      <th>hour_r</th>\n",
       "      <th>weekday</th>\n",
       "    </tr>\n",
       "  </thead>\n",
       "  <tbody>\n",
       "    <tr>\n",
       "      <th>0</th>\n",
       "      <td>213688169</td>\n",
       "      <td>Benjamin Godard - Victor Hugo</td>\n",
       "      <td>48.865983</td>\n",
       "      <td>2.275725</td>\n",
       "      <td>35</td>\n",
       "      <td>16107</td>\n",
       "      <td>NaN</td>\n",
       "      <td>1586872772.0</td>\n",
       "      <td>2020-04-14 15:59:32</td>\n",
       "      <td>11</td>\n",
       "      <td>24</td>\n",
       "      <td>1</td>\n",
       "      <td>1</td>\n",
       "      <td>1</td>\n",
       "      <td>1586870837</td>\n",
       "      <td>3</td>\n",
       "      <td>8</td>\n",
       "      <td>14</td>\n",
       "      <td>16</td>\n",
       "      <td>Tue</td>\n",
       "    </tr>\n",
       "  </tbody>\n",
       "</table>\n",
       "</div>"
      ],
      "text/plain": [
       "  station_id                           name        lat       lon capacity  \\\n",
       "0  213688169  Benjamin Godard - Victor Hugo  48.865983  2.275725       35   \n",
       "\n",
       "  stationCode_x rental_methods     timestamp            datetime  \\\n",
       "0         16107            NaN  1586872772.0 2020-04-14 15:59:32   \n",
       "\n",
       "  num_bikes_available num_docks_available is_installed is_returning  \\\n",
       "0                  11                  24            1            1   \n",
       "\n",
       "  is_renting last_reported mechanical_available ebike_available  day  hour_r  \\\n",
       "0          1    1586870837                    3               8   14      16   \n",
       "\n",
       "  weekday  \n",
       "0     Tue  "
      ]
     },
     "execution_count": 84,
     "metadata": {},
     "output_type": "execute_result"
    }
   ],
   "source": [
    "df.head(1)"
   ]
  },
  {
   "cell_type": "markdown",
   "metadata": {},
   "source": [
    "### Location \n",
    "We will use the __geopy package__ to convert the _lat_ and _lon_ data into an understandable adress  \n",
    "First we create a different dataframe to have all the stations' info in a simple dataframe"
   ]
  },
  {
   "cell_type": "code",
   "execution_count": null,
   "metadata": {},
   "outputs": [],
   "source": [
    "# stations_loc = df[ ['station_id', 'name', 'lat', 'lon', 'station_id', 'capacity', 'is_installed', 'is_returning', 'is_renting']].drop_duplicates(subset= 'station_id')\n",
    "\n",
    "# Syntax understandable for geopy.geocoders methods :\n",
    "stations_loc['lat_lon'] = stations_loc['lat'] + \", \" + stations_loc['lon']"
   ]
  },
  {
   "cell_type": "code",
   "execution_count": 149,
   "metadata": {},
   "outputs": [
    {
     "data": {
      "text/html": [
       "<div>\n",
       "<style scoped>\n",
       "    .dataframe tbody tr th:only-of-type {\n",
       "        vertical-align: middle;\n",
       "    }\n",
       "\n",
       "    .dataframe tbody tr th {\n",
       "        vertical-align: top;\n",
       "    }\n",
       "\n",
       "    .dataframe thead th {\n",
       "        text-align: right;\n",
       "    }\n",
       "</style>\n",
       "<table border=\"1\" class=\"dataframe\">\n",
       "  <thead>\n",
       "    <tr style=\"text-align: right;\">\n",
       "      <th></th>\n",
       "      <th>station_id</th>\n",
       "      <th>name</th>\n",
       "      <th>lat</th>\n",
       "      <th>lon</th>\n",
       "      <th>lat_lon</th>\n",
       "      <th>address_raw</th>\n",
       "      <th>municipality</th>\n",
       "      <th>postcode</th>\n",
       "      <th>cityDistrict</th>\n",
       "      <th>capacity</th>\n",
       "      <th>is_installed</th>\n",
       "      <th>is_returning</th>\n",
       "      <th>is_renting</th>\n",
       "    </tr>\n",
       "  </thead>\n",
       "  <tbody>\n",
       "    <tr>\n",
       "      <th>0</th>\n",
       "      <td>213688169</td>\n",
       "      <td>Benjamin Godard - Victor Hugo</td>\n",
       "      <td>48.865983</td>\n",
       "      <td>2.275725</td>\n",
       "      <td>48.865983, 2.275725</td>\n",
       "      <td>{'buildingNumber': '2', 'streetNumber': '2', '...</td>\n",
       "      <td>Paris</td>\n",
       "      <td>75116</td>\n",
       "      <td>16</td>\n",
       "      <td>35</td>\n",
       "      <td>1</td>\n",
       "      <td>1</td>\n",
       "      <td>1</td>\n",
       "    </tr>\n",
       "  </tbody>\n",
       "</table>\n",
       "</div>"
      ],
      "text/plain": [
       "   station_id                           name        lat       lon  \\\n",
       "0   213688169  Benjamin Godard - Victor Hugo  48.865983  2.275725   \n",
       "\n",
       "               lat_lon                                        address_raw  \\\n",
       "0  48.865983, 2.275725  {'buildingNumber': '2', 'streetNumber': '2', '...   \n",
       "\n",
       "  municipality postcode cityDistrict  capacity  is_installed  is_returning  \\\n",
       "0        Paris    75116           16        35             1             1   \n",
       "\n",
       "   is_renting  \n",
       "0           1  "
      ]
     },
     "execution_count": 149,
     "metadata": {},
     "output_type": "execute_result"
    }
   ],
   "source": [
    "stations_loc.head(1)"
   ]
  },
  {
   "cell_type": "code",
   "execution_count": 28,
   "metadata": {},
   "outputs": [],
   "source": [
    "from geopy.geocoders import TomTom\n",
    "\n",
    "# With the own geolocation service TomTom class :\n",
    "geolocator = TomTom( api_key =  'XtY5TGp0LMPPoMrmgoOWAT06FihLGbbG')"
   ]
  },
  {
   "cell_type": "code",
   "execution_count": 118,
   "metadata": {},
   "outputs": [
    {
     "data": {
      "text/plain": [
       "Location(2 Rue Benjamin Godard, Paris, 75116, (48.865936, 2.275709, 0.0))"
      ]
     },
     "execution_count": 118,
     "metadata": {},
     "output_type": "execute_result"
    }
   ],
   "source": [
    "#Exemple\n",
    "geolocator.reverse(\"48.865983, 2.275725\")"
   ]
  },
  {
   "cell_type": "code",
   "execution_count": 34,
   "metadata": {},
   "outputs": [],
   "source": [
    "# To limit the number of query :\n",
    "# add delay between geocoding calls to reduce the load on the Geocoding service\n",
    "# https://geopy.readthedocs.io/en/stable/#usage-with-pandas\n",
    "from geopy.extra.rate_limiter import RateLimiter\n",
    "# Set 0.5s between each call\n",
    "geocode = RateLimiter( geolocator.reverse, min_delay_seconds = 1 )"
   ]
  },
  {
   "cell_type": "code",
   "execution_count": 203,
   "metadata": {},
   "outputs": [],
   "source": [
    "stations_loc['address_raw'] = stations_loc['lat_lon'].apply(\n",
    "                                lambda x: geocode(x).raw ) # attribute to obtain a dictionnary "
   ]
  },
  {
   "cell_type": "code",
   "execution_count": null,
   "metadata": {},
   "outputs": [],
   "source": [
    "def district(x):\n",
    "    # If in Paris return the disctrict of paris \n",
    "    if x['postalCode'][0:2]=='75': \n",
    "        return x['postalCode'][3:5]\n",
    "    # otherwise return the city name\n",
    "    else: return x['municipality']"
   ]
  },
  {
   "cell_type": "code",
   "execution_count": 84,
   "metadata": {},
   "outputs": [],
   "source": [
    "# Split raw address dictionnaries\n",
    "stations_loc[ 'municipality'] = stations_loc['address_raw'].apply( lambda x: x['municipality'])\n",
    "stations_loc[ 'postcode'] = stations_loc['address_raw'].apply( lambda x: x['postalCode'])\n",
    "stations_loc[ 'cityDistrict'] =  stations_loc['address_raw'].apply( district)"
   ]
  },
  {
   "cell_type": "markdown",
   "metadata": {},
   "source": [
    "**Save or import the stations_info CSV**"
   ]
  },
  {
   "cell_type": "code",
   "execution_count": 151,
   "metadata": {},
   "outputs": [],
   "source": [
    "#Save to CSV file\n",
    "stations_loc.to_csv('stations_info.csv')\n",
    "#stations_loc = pd.read_csv( 'stations_info.csv')"
   ]
  },
  {
   "cell_type": "markdown",
   "metadata": {},
   "source": [
    "## General information \n",
    "Contextualize the dataset in terms of date and number of bikes"
   ]
  },
  {
   "cell_type": "markdown",
   "metadata": {},
   "source": [
    "#### Period"
   ]
  },
  {
   "cell_type": "code",
   "execution_count": 54,
   "metadata": {},
   "outputs": [
    {
     "data": {
      "text/plain": [
       "14"
      ]
     },
     "execution_count": 54,
     "metadata": {},
     "output_type": "execute_result"
    }
   ],
   "source": [
    "#Start Date \n",
    "start = df['datetime'].min() ;"
   ]
  },
  {
   "cell_type": "code",
   "execution_count": 72,
   "metadata": {},
   "outputs": [
    {
     "data": {
      "text/plain": [
       "Timestamp('2020-04-27 12:11:27')"
      ]
     },
     "execution_count": 72,
     "metadata": {},
     "output_type": "execute_result"
    }
   ],
   "source": [
    "# End date \n",
    "end = df['datetime'].max() ; end"
   ]
  },
  {
   "cell_type": "code",
   "execution_count": 39,
   "metadata": {},
   "outputs": [
    {
     "data": {
      "text/plain": [
       "Timedelta('12 days 20:11:55')"
      ]
     },
     "execution_count": 39,
     "metadata": {},
     "output_type": "execute_result"
    }
   ],
   "source": [
    "#Period \n",
    "period = end- start ; period"
   ]
  },
  {
   "cell_type": "markdown",
   "metadata": {},
   "source": []
  },
  {
   "cell_type": "code",
   "execution_count": null,
   "metadata": {},
   "outputs": [],
   "source": []
  }
 ],
 "metadata": {
  "kernelspec": {
   "display_name": "Python 3",
   "language": "python",
   "name": "python3"
  },
  "language_info": {
   "codemirror_mode": {
    "name": "ipython",
    "version": 3
   },
   "file_extension": ".py",
   "mimetype": "text/x-python",
   "name": "python",
   "nbconvert_exporter": "python",
   "pygments_lexer": "ipython3",
   "version": "3.7.7"
  }
 },
 "nbformat": 4,
 "nbformat_minor": 4
}
